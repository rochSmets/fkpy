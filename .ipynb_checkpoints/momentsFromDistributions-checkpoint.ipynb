{
 "cells": [
  {
   "cell_type": "markdown",
   "metadata": {},
   "source": [
    "Playing with distributions\n",
    "====================="
   ]
  },
  {
   "cell_type": "markdown",
   "metadata": {},
   "source": [
    "**All of this \"hands-on\" is about two-dimensional functions.**\n",
    "\n",
    "The basic distribution is a bi-maxwellian. We can do essentially 2 operations :\n",
    "\n",
    "* add a maxwellian to a set of other maxwellians\n",
    "* truncate a population that is to say remove a piece of its tail\n",
    "\n",
    "The object which manipulates a distribution is `operationOnDistribution`"
   ]
  },
  {
   "cell_type": "code",
   "execution_count": null,
   "metadata": {},
   "outputs": [],
   "source": [
    "import numpy as np\n",
    "import operationOnDistribution"
   ]
  },
  {
   "cell_type": "markdown",
   "metadata": {},
   "source": [
    "Without any args, the ctor builds an empty object (called `myPop`) with default values of its parameters. "
   ]
  },
  {
   "cell_type": "code",
   "execution_count": null,
   "metadata": {},
   "outputs": [],
   "source": [
    "myPop = operationOnDistribution.Populations()"
   ]
  },
  {
   "cell_type": "markdown",
   "metadata": {},
   "source": [
    "Then, you can add a maxwellian to `myPop`. Without any args, this maxwellian will be set with defaults values"
   ]
  },
  {
   "cell_type": "code",
   "execution_count": null,
   "metadata": {},
   "outputs": [],
   "source": [
    "myPop.add()"
   ]
  },
  {
   "cell_type": "markdown",
   "metadata": {},
   "source": [
    "With the `show` method, you can see the associated parameters of this set"
   ]
  },
  {
   "cell_type": "code",
   "execution_count": null,
   "metadata": {},
   "outputs": [],
   "source": [
    "myPop.show()"
   ]
  },
  {
   "cell_type": "markdown",
   "metadata": {},
   "source": [
    "# Display\n",
    "\n",
    "Then, you can display this set of maxwellians (at this stage, containing only a single one), but before, you need to build the associated function using the class method `computeDIstrib`. This step is mandatory before calling the other class method `display`. More generally, `computeDistrib` has to be called whenever the list of maxwellian distributions is modified."
   ]
  },
  {
   "cell_type": "code",
   "execution_count": null,
   "metadata": {},
   "outputs": [],
   "source": [
    "myPop.computeDistrib()\n",
    "myPop.display()"
   ]
  },
  {
   "cell_type": "markdown",
   "metadata": {},
   "source": [
    "Then, `cut` is a method of `Populations` which allows (individually or collectively) to modify the support of these maxwellians. The needed arg is a list of supports (lower and upper bounds) in the first and second direction, respectively."
   ]
  },
  {
   "cell_type": "code",
   "execution_count": null,
   "metadata": {},
   "outputs": [],
   "source": [
    "myPop.cut(support=[[-np.inf, +np.inf], [-1, +np.inf]])\n",
    "myPop.computeDistrib()\n",
    "myPop.display()"
   ]
  },
  {
   "cell_type": "markdown",
   "metadata": {},
   "source": [
    "Because the distribution function has been updated, we can locally calculate the value of this distribution for a given value of the velocity (the two components)"
   ]
  },
  {
   "cell_type": "code",
   "execution_count": null,
   "metadata": {},
   "outputs": [],
   "source": [
    "myPop.distrib(0,0)"
   ]
  },
  {
   "cell_type": "markdown",
   "metadata": {},
   "source": [
    "# Calculation of the moments\n",
    "\n",
    "Then, we have 4 methods to calculate the first 4 moments :\n",
    "* `density` returns the total scalar density\n",
    "* `bulk` returns a list containing the two components of the vectorial velocity : *V_0* and *V_1*\n",
    "* `pressure` returns a list with the 3 independant components of the full pressure tensor : *P_00*, *P_01* = *P_10* and *P_11*\n",
    "* `heatFlux` returns a list with the 4 independants components of the full heat flux : *q_000*, *q_001* = *q_010* = *q_100*, *q_011* = *q_101* = *q_110* and *q_111*"
   ]
  },
  {
   "cell_type": "markdown",
   "metadata": {},
   "source": [
    "So for our distribution, the support is decreased... meaning that the integral to calculate the density will be smaller. In the same way, there is a bulk velocity that will appear because the distribution is no more symmetric. As we removed the negative part of $v_1$, then $V_0$ is still 0, and $V_1$ will get slightly positive..."
   ]
  },
  {
   "cell_type": "code",
   "execution_count": null,
   "metadata": {},
   "outputs": [],
   "source": [
    "n=myPop.density()"
   ]
  },
  {
   "cell_type": "code",
   "execution_count": null,
   "metadata": {},
   "outputs": [],
   "source": [
    "w=myPop.bulk()"
   ]
  },
  {
   "cell_type": "markdown",
   "metadata": {},
   "source": [
    "# Question :\n",
    "\n",
    "Try to guess what should look like the 3 components of the full pressure tensor"
   ]
  },
  {
   "cell_type": "code",
   "execution_count": null,
   "metadata": {},
   "outputs": [],
   "source": [
    "p=myPop.pressure()"
   ]
  },
  {
   "cell_type": "markdown",
   "metadata": {},
   "source": [
    "You then noted that the off-diagonal component of the full pressure tensor is null... despite the unsymmetric support. Was it obvious ?"
   ]
  },
  {
   "cell_type": "markdown",
   "metadata": {},
   "source": [
    "# Question :\n",
    "\n",
    "Could we create such an off-diagonal component with an additional `cut` ? If yes, which one ?"
   ]
  },
  {
   "cell_type": "code",
   "execution_count": null,
   "metadata": {},
   "outputs": [],
   "source": [
    "myPop.cut(support=[[-np.inf, +0.2], [-0.2, +np.inf]])\n",
    "myPop.computeDistrib()\n",
    "myPop.display()\n",
    "p=myPop.pressure()"
   ]
  },
  {
   "cell_type": "markdown",
   "metadata": {},
   "source": [
    "Now lets go back to the \"original\" distribution..."
   ]
  },
  {
   "cell_type": "code",
   "execution_count": null,
   "metadata": {},
   "outputs": [],
   "source": [
    "myPop = operationOnDistribution.Populations()\n",
    "myPop.add()\n",
    "myPop.cut(support=[[-np.inf, +np.inf], [-1, +np.inf]])\n",
    "myPop.computeDistrib()\n",
    "myPop.display()"
   ]
  },
  {
   "cell_type": "markdown",
   "metadata": {},
   "source": [
    "# Question :\n",
    "\n",
    "Try to guess what should look like the 4 components of the full heat flux tensor"
   ]
  },
  {
   "cell_type": "code",
   "execution_count": null,
   "metadata": {},
   "outputs": [],
   "source": [
    "q=myPop.heatFlux()"
   ]
  },
  {
   "cell_type": "markdown",
   "metadata": {},
   "source": [
    "# With a second population\n",
    "\n",
    "Now, we consider the case of two cold maxwellians drifting one relative to the other. In this case, \"cold\" means that the thermal velocity of the distribution is small compared to the bulk velocity."
   ]
  },
  {
   "cell_type": "code",
   "execution_count": null,
   "metadata": {},
   "outputs": [],
   "source": [
    "myPop = operationOnDistribution.Populations()\n",
    "myPop.add(n=1, bulk=[-1.5, 0], vth=[0.1, 0.1])\n",
    "myPop.add(n=1, bulk=[+1.5, 0], vth=[0.1, 0.1])\n",
    "myPop.show()\n",
    "myPop.computeDistrib()\n",
    "myPop.display()"
   ]
  },
  {
   "cell_type": "markdown",
   "metadata": {},
   "source": [
    "# Question :\n",
    "\n",
    "Can you try to guess what are going to be the density, bulk velocity, full pressure and heat flux of such compound distribution ?"
   ]
  },
  {
   "cell_type": "code",
   "execution_count": null,
   "metadata": {},
   "outputs": [],
   "source": []
  },
  {
   "cell_type": "markdown",
   "metadata": {},
   "source": [
    "# The \"Zorro\" problem\n",
    "\n",
    "Day 4 of the formation, you have to manage a peculiar distribution in the kinetic case essentially resulting from the superposition of 3 cold distribution with a significant relative drift velocity. You can rebuild such a \"3-populations\" distribution, and then calculate the associated moments."
   ]
  },
  {
   "cell_type": "markdown",
   "metadata": {},
   "source": [
    "# Question :\n",
    "\n",
    "In this case, what could be an adapted closure equation... that means, how the heatflux, pressure, bulk velocity and density could be related ? You can play with the numerical solution, but also do it in an analytical way..."
   ]
  },
  {
   "cell_type": "code",
   "execution_count": null,
   "metadata": {},
   "outputs": [],
   "source": []
  },
  {
   "cell_type": "code",
   "execution_count": null,
   "metadata": {},
   "outputs": [],
   "source": []
  }
 ],
 "metadata": {
  "kernelspec": {
   "display_name": "Python 3 (ipykernel)",
   "language": "python",
   "name": "python3"
  },
  "language_info": {
   "codemirror_mode": {
    "name": "ipython",
    "version": 3
   },
   "file_extension": ".py",
   "mimetype": "text/x-python",
   "name": "python",
   "nbconvert_exporter": "python",
   "pygments_lexer": "ipython3",
   "version": "3.11.6"
  }
 },
 "nbformat": 4,
 "nbformat_minor": 4
}
